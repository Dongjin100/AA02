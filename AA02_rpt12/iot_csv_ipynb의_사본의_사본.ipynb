{
  "nbformat": 4,
  "nbformat_minor": 0,
  "metadata": {
    "colab": {
      "name": "iot_csv.ipynb의 사본의 사본",
      "provenance": [],
      "private_outputs": true,
      "collapsed_sections": []
    },
    "kernelspec": {
      "name": "python3",
      "display_name": "Python 3"
    }
  },
  "cells": [
    {
      "cell_type": "markdown",
      "metadata": {
        "id": "4RyKlSBw1DjY",
        "colab_type": "text"
      },
      "source": [
        "### Pandas: Loading the remote csv file\n",
        "\n",
        "> [Pandas: Tutorial-reas_csv()](https://www.marsja.se/pandas-read-csv-tutorial-to-csv/amp/)  \n",
        "---\n",
        "> [파이썬 모듈 - pandas 기초 (by Redwoods)](https://github.com/Redwoods/Lec/blob/master/simulation/code/py_modules/py_module_3_pandas.ipynb)"
      ]
    },
    {
      "cell_type": "markdown",
      "metadata": {
        "id": "DISI_ImjVj-6",
        "colab_type": "text"
      },
      "source": [
        "\n",
        "\n",
        "---\n",
        "\n"
      ]
    },
    {
      "cell_type": "code",
      "metadata": {
        "id": "y8KjEOPg1Dja",
        "colab_type": "code",
        "colab": {}
      },
      "source": [
        "import pandas as pd"
      ],
      "execution_count": 0,
      "outputs": []
    },
    {
      "cell_type": "code",
      "metadata": {
        "id": "N4sYnKbu1Djg",
        "colab_type": "code",
        "colab": {}
      },
      "source": [
        "# Access a data file in csv format from the remote express server with CORS.\n",
        "url=\"http://chaos.inje.ac.kr:3030/data/ppg5k.csv\"  # CORS powered express server!\n",
        "c=pd.read_csv(url, index_col='Time')"
      ],
      "execution_count": 0,
      "outputs": []
    },
    {
      "cell_type": "code",
      "metadata": {
        "id": "MfB0c8tr1Djj",
        "colab_type": "code",
        "colab": {}
      },
      "source": [
        "c.shape"
      ],
      "execution_count": 0,
      "outputs": []
    },
    {
      "cell_type": "code",
      "metadata": {
        "id": "rCMGqVrk1Djr",
        "colab_type": "code",
        "colab": {}
      },
      "source": [
        "c.head()"
      ],
      "execution_count": 0,
      "outputs": []
    },
    {
      "cell_type": "code",
      "metadata": {
        "id": "k1Gpq30rWE59",
        "colab_type": "code",
        "colab": {}
      },
      "source": [
        "c.tail()"
      ],
      "execution_count": 0,
      "outputs": []
    },
    {
      "cell_type": "code",
      "metadata": {
        "id": "m8dQtyJa1Djw",
        "colab_type": "code",
        "colab": {}
      },
      "source": [
        "c.info()"
      ],
      "execution_count": 0,
      "outputs": []
    },
    {
      "cell_type": "code",
      "metadata": {
        "id": "m3C8fjK_1Dj2",
        "colab_type": "code",
        "colab": {}
      },
      "source": [
        "# another method to read csv \n",
        "c2=pd.read_csv(url, index_col=0)\n",
        "c2.head()"
      ],
      "execution_count": 0,
      "outputs": []
    },
    {
      "cell_type": "markdown",
      "metadata": {
        "id": "Ks8HqVqOWWMh",
        "colab_type": "text"
      },
      "source": [
        "### 데이터 시각화\n",
        "- matplotlib module\n",
        "- pandas ploting"
      ]
    },
    {
      "cell_type": "code",
      "metadata": {
        "id": "NbTuxzs81Dj7",
        "colab_type": "code",
        "colab": {}
      },
      "source": [
        "# import matplotlib.pyplot as plt\n",
        "# %matplotlib inline"
      ],
      "execution_count": 0,
      "outputs": []
    },
    {
      "cell_type": "code",
      "metadata": {
        "id": "MyKp3iqT1Dj_",
        "colab_type": "code",
        "colab": {}
      },
      "source": [
        "c.plot(figsize=(8,4), color='r', title=\"PPG\", rot=90)"
      ],
      "execution_count": 0,
      "outputs": []
    },
    {
      "cell_type": "code",
      "metadata": {
        "id": "4q83kwzv1DkF",
        "colab_type": "code",
        "colab": {}
      },
      "source": [
        "c[:1000].plot(figsize=(12,5), color='r', title=\"PPG\")"
      ],
      "execution_count": 0,
      "outputs": []
    },
    {
      "cell_type": "markdown",
      "metadata": {
        "id": "0Mjp7Izv1DkK",
        "colab_type": "text"
      },
      "source": [
        "### iot data\n",
        "> Sensor data from Arduino with CdS and DHT22\n",
        "\n",
        "- temperature\n",
        "- humidity\n",
        "- luminosity"
      ]
    },
    {
      "cell_type": "code",
      "metadata": {
        "id": "JocMoJ3q1DkL",
        "colab_type": "code",
        "colab": {}
      },
      "source": [
        "# Access a data file in csv format from the remote express server with CORS.\n",
        "url=\"http://chaos.inje.ac.kr:3030/data/iot_chaos.csv\"\n",
        "iot=pd.read_csv(url, index_col='date')"
      ],
      "execution_count": 0,
      "outputs": []
    },
    {
      "cell_type": "code",
      "metadata": {
        "id": "d-M3o1hI1DkQ",
        "colab_type": "code",
        "colab": {}
      },
      "source": [
        "iot.shape"
      ],
      "execution_count": 0,
      "outputs": []
    },
    {
      "cell_type": "code",
      "metadata": {
        "id": "b5TKa9bX1DkV",
        "colab_type": "code",
        "colab": {}
      },
      "source": [
        "iot.head()"
      ],
      "execution_count": 0,
      "outputs": []
    },
    {
      "cell_type": "code",
      "metadata": {
        "id": "CjyUNVTQ1Dkb",
        "colab_type": "code",
        "colab": {}
      },
      "source": [
        "iot.tail()"
      ],
      "execution_count": 0,
      "outputs": []
    },
    {
      "cell_type": "code",
      "metadata": {
        "id": "o66Mb3tp1Dki",
        "colab_type": "code",
        "colab": {}
      },
      "source": [
        "iot.info()"
      ],
      "execution_count": 0,
      "outputs": []
    },
    {
      "cell_type": "code",
      "metadata": {
        "id": "BUukMID1XAkF",
        "colab_type": "code",
        "colab": {}
      },
      "source": [
        "iot.describe()"
      ],
      "execution_count": 0,
      "outputs": []
    },
    {
      "cell_type": "markdown",
      "metadata": {
        "id": "DrIb6pwx1Dkn",
        "colab_type": "text"
      },
      "source": [
        "#### Sort index by date"
      ]
    },
    {
      "cell_type": "code",
      "metadata": {
        "id": "v3ujbMYb1Dkp",
        "colab_type": "code",
        "colab": {}
      },
      "source": [
        "iot_s = iot.sort_index()"
      ],
      "execution_count": 0,
      "outputs": []
    },
    {
      "cell_type": "code",
      "metadata": {
        "id": "OoKNtme61Dkt",
        "colab_type": "code",
        "colab": {}
      },
      "source": [
        "iot_s.head()"
      ],
      "execution_count": 0,
      "outputs": []
    },
    {
      "cell_type": "code",
      "metadata": {
        "id": "ShvtLDxd1Dk0",
        "colab_type": "code",
        "colab": {}
      },
      "source": [
        "iot_s.plot(figsize=(8,4)) #, rot=90)"
      ],
      "execution_count": 0,
      "outputs": []
    },
    {
      "cell_type": "code",
      "metadata": {
        "id": "NIrq0QfJ1Dk6",
        "colab_type": "code",
        "colab": {}
      },
      "source": [
        "# 평균\n",
        "iot_s.mean()"
      ],
      "execution_count": 0,
      "outputs": []
    },
    {
      "cell_type": "code",
      "metadata": {
        "id": "6f3COPXsXgb9",
        "colab_type": "code",
        "colab": {}
      },
      "source": [
        "# 표준편차\n",
        "iot_s.std()"
      ],
      "execution_count": 0,
      "outputs": []
    },
    {
      "cell_type": "markdown",
      "metadata": {
        "id": "wKThMZjrXpwx",
        "colab_type": "text"
      },
      "source": [
        "#### 평균과 표준편차를 이용한 그래프"
      ]
    },
    {
      "cell_type": "code",
      "metadata": {
        "id": "T_NXwO3v1Dk-",
        "colab_type": "code",
        "colab": {}
      },
      "source": [
        "iot_s.mean().plot.bar(figsize=(10,5), title=\"iot data: temp, humi, lumi\")"
      ],
      "execution_count": 0,
      "outputs": []
    },
    {
      "cell_type": "code",
      "metadata": {
        "id": "Z8v5_B7WX4Wr",
        "colab_type": "code",
        "colab": {}
      },
      "source": [
        "iot_s.mean().plot.bar(figsize=(10,5), title=\"iot data: temp, humi, lumi\", yerr=iot_s.std(), rot=0)"
      ],
      "execution_count": 0,
      "outputs": []
    },
    {
      "cell_type": "markdown",
      "metadata": {
        "id": "Qn52SiznYhqs",
        "colab_type": "text"
      },
      "source": [
        "### 시간 간격에 따른 센서 데이터의 변화 그래프"
      ]
    },
    {
      "cell_type": "markdown",
      "metadata": {
        "id": "TYGSDEGP1DlE",
        "colab_type": "text"
      },
      "source": [
        "## Plot the change of sensor data over various time spans.\n",
        "\n",
        "- resample the data at different frequency\n",
        "- time span: 60 sec, 1 hour, 1 day, 1 week"
      ]
    },
    {
      "cell_type": "code",
      "metadata": {
        "id": "dPgcIFOP1DlF",
        "colab_type": "code",
        "colab": {}
      },
      "source": [
        "iot_s.info()"
      ],
      "execution_count": 0,
      "outputs": []
    },
    {
      "cell_type": "code",
      "metadata": {
        "id": "zr1RA5Ix1DlJ",
        "colab_type": "code",
        "colab": {}
      },
      "source": [
        "# type of index\n",
        "iot_s.index[0], type(iot_s.index[0])"
      ],
      "execution_count": 0,
      "outputs": []
    },
    {
      "cell_type": "code",
      "metadata": {
        "id": "2Tsb1Z9x1DlN",
        "colab_type": "code",
        "colab": {}
      },
      "source": [
        "# Convert index to timestamp\n",
        "iot_s.index = pd.to_datetime(iot_s.index)"
      ],
      "execution_count": 0,
      "outputs": []
    },
    {
      "cell_type": "code",
      "metadata": {
        "id": "9mAeysp31DlU",
        "colab_type": "code",
        "colab": {}
      },
      "source": [
        "iot_s.info()"
      ],
      "execution_count": 0,
      "outputs": []
    },
    {
      "cell_type": "markdown",
      "metadata": {
        "id": "DgKNx3soY2TS",
        "colab_type": "text"
      },
      "source": [
        "> 인덱스가 문자열에서 Datatime 인덱스로 전환되었다.\n",
        "\n",
        "> 시간 지정 및 계산 효과를 그래프에 반영한다."
      ]
    },
    {
      "cell_type": "code",
      "metadata": {
        "id": "BWJ5exVWZXMS",
        "colab_type": "code",
        "colab": {}
      },
      "source": [
        "# Estimate the mean of iot_s for every 10 minutes\n",
        "iot_s.resample('600S').mean()  # mean per each 10 minutes"
      ],
      "execution_count": 0,
      "outputs": []
    },
    {
      "cell_type": "code",
      "metadata": {
        "id": "eCl8F_FPZrdq",
        "colab_type": "code",
        "colab": {}
      },
      "source": [
        "#  Plot mean of the iot data per every 10 minutes \n",
        "iot_s.resample('600S').mean().plot(figsize=(12,6), title='10 minutes change of temp, humi, and lumi', \n",
        "                                ylim=[0,90])"
      ],
      "execution_count": 0,
      "outputs": []
    },
    {
      "cell_type": "code",
      "metadata": {
        "id": "p0dZyoMy1DlY",
        "colab_type": "code",
        "colab": {}
      },
      "source": [
        "# Estimate the mean of iot_s for every hour\n",
        "iot_s.resample('H').mean()  # mean per each hour"
      ],
      "execution_count": 0,
      "outputs": []
    },
    {
      "cell_type": "code",
      "metadata": {
        "id": "i3BiiT-L1Dle",
        "colab_type": "code",
        "colab": {}
      },
      "source": [
        "#  Plot mean of the iot data per every hour \n",
        "iot_s.resample('H').mean().plot(figsize=(12,6), title='Hourly change of temp, humi, and lumi', \n",
        "                                ylim=[0,90])"
      ],
      "execution_count": 0,
      "outputs": []
    },
    {
      "cell_type": "code",
      "metadata": {
        "id": "Mpaa7zcOZ6YL",
        "colab_type": "code",
        "colab": {}
      },
      "source": [
        "# Estimate the mean of iot_s for every day\n",
        "iot_s.resample('D').mean()  # mean per each day"
      ],
      "execution_count": 0,
      "outputs": []
    },
    {
      "cell_type": "code",
      "metadata": {
        "id": "1Na-aiX31Dli",
        "colab_type": "code",
        "colab": {}
      },
      "source": [
        "#  Plot mean of the iot data per every day\n",
        "iot_s.resample('D').mean().plot(kind='line', marker='o', ms=10, figsize=(9,5), title='Daily change of temperature, humidity, and luminosity')"
      ],
      "execution_count": 0,
      "outputs": []
    },
    {
      "cell_type": "code",
      "metadata": {
        "id": "YmAHT_XoaOls",
        "colab_type": "code",
        "colab": {}
      },
      "source": [
        "#  Plot bar graph using mean of the iot data per every day\n",
        "iot_s.resample('D').mean().plot(kind='bar', figsize=(12,6), title='Daily change of temperature, humidity, and luminosity')"
      ],
      "execution_count": 0,
      "outputs": []
    },
    {
      "cell_type": "markdown",
      "metadata": {
        "id": "63f12cUlajWa",
        "colab_type": "text"
      },
      "source": [
        "#### DIY\n",
        "1. 주별 평균값을 계산하시오.\n",
        "2. 주별 평균값을 시각화 하시오.\n",
        "\n"
      ]
    },
    {
      "cell_type": "markdown",
      "metadata": {
        "id": "zNs608SE3PxR",
        "colab_type": "text"
      },
      "source": [
        "\n",
        "\n",
        "---\n",
        "\n"
      ]
    },
    {
      "cell_type": "code",
      "metadata": {
        "id": "bSJOj1mh1Dl0",
        "colab_type": "code",
        "colab": {}
      },
      "source": [
        "iot_s.resample('w').mean()"
      ],
      "execution_count": 0,
      "outputs": []
    },
    {
      "cell_type": "code",
      "metadata": {
        "id": "vmP1ffKtqFmr",
        "colab_type": "code",
        "colab": {}
      },
      "source": [
        "iot_s.resample('w').mean().plot(kind='bar', figsize=(12,6), title='Daily change of temperature, humidity, and luminosity')"
      ],
      "execution_count": 0,
      "outputs": []
    }
  ]
}