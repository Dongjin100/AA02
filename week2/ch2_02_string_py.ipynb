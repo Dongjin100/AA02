{
  "nbformat": 4,
  "nbformat_minor": 0,
  "metadata": {
    "colab": {
      "name": "ch2_02_string.py",
      "provenance": [],
      "collapsed_sections": [],
      "include_colab_link": true
    },
    "kernelspec": {
      "name": "python2",
      "display_name": "Python 2"
    }
  },
  "cells": [
    {
      "cell_type": "markdown",
      "metadata": {
        "id": "view-in-github",
        "colab_type": "text"
      },
      "source": [
        "<a href=\"https://colab.research.google.com/github/Dongjin100/AA02/blob/master/week2/ch2_02_string_py.ipynb\" target=\"_parent\"><img src=\"https://colab.research.google.com/assets/colab-badge.svg\" alt=\"Open In Colab\"/></a>"
      ]
    },
    {
      "cell_type": "markdown",
      "metadata": {
        "id": "1sgCHjFfq629",
        "colab_type": "text"
      },
      "source": [
        "##문자형 자료형"
      ]
    },
    {
      "cell_type": "code",
      "metadata": {
        "id": "2YzZO2Ozq3ba",
        "colab_type": "code",
        "colab": {
          "base_uri": "https://localhost:8080/",
          "height": 53
        },
        "outputId": "0ac21e39-9461-4a88-ec33-367ee0031381"
      },
      "source": [
        "\n",
        "print(\"문자열: '\")\n",
        "food = \"Python's favorite food is perl\"\n",
        "print(food)\n",
        "\n"
      ],
      "execution_count": 6,
      "outputs": [
        {
          "output_type": "stream",
          "text": [
            "문자열: '\n",
            "Python's favorite food is perl\n"
          ],
          "name": "stdout"
        }
      ]
    },
    {
      "cell_type": "markdown",
      "metadata": {
        "id": "yjX6-lrerxXn",
        "colab_type": "text"
      },
      "source": [
        "##문자열 작은 따옴표 만 쓰게되면 오류가 뜬다"
      ]
    },
    {
      "cell_type": "code",
      "metadata": {
        "id": "MGlgYI8Brt3f",
        "colab_type": "code",
        "colab": {
          "base_uri": "https://localhost:8080/",
          "height": 136
        },
        "outputId": "87a3c4e1-a045-4233-cb80-271ed36ddf49"
      },
      "source": [
        "food = 'Python's favorite food is perl'  # Error"
      ],
      "execution_count": 7,
      "outputs": [
        {
          "output_type": "error",
          "ename": "SyntaxError",
          "evalue": "ignored",
          "traceback": [
            "\u001b[0;36m  File \u001b[0;32m\"<ipython-input-7-f53082fb6fe1>\"\u001b[0;36m, line \u001b[0;32m1\u001b[0m\n\u001b[0;31m    food = 'Python's favorite food is perl'  # Error\u001b[0m\n\u001b[0m                   ^\u001b[0m\n\u001b[0;31mSyntaxError\u001b[0m\u001b[0;31m:\u001b[0m invalid syntax\n"
          ]
        }
      ]
    },
    {
      "cell_type": "markdown",
      "metadata": {
        "id": "gS3yrNgBsdEv",
        "colab_type": "text"
      },
      "source": [
        "##큰 따옴표안에 작은 따옴표를 쓰면 오류 해결"
      ]
    },
    {
      "cell_type": "code",
      "metadata": {
        "id": "giXQr5Jbr_Du",
        "colab_type": "code",
        "colab": {
          "base_uri": "https://localhost:8080/",
          "height": 35
        },
        "outputId": "68ece9c4-8de6-4a1f-d9fa-d889d681e562"
      },
      "source": [
        "say = '\"Python is very easy.\" he says.'\n",
        "print(say)\n",
        "\n"
      ],
      "execution_count": 12,
      "outputs": [
        {
          "output_type": "stream",
          "text": [
            "\"Python is very easy.\" he says.\n"
          ],
          "name": "stdout"
        }
      ]
    },
    {
      "cell_type": "markdown",
      "metadata": {
        "id": "MKh7Fn7dsrLe",
        "colab_type": "text"
      },
      "source": [
        "## \\를 이용한 문자열"
      ]
    },
    {
      "cell_type": "code",
      "metadata": {
        "id": "mk5n8GjWsqOP",
        "colab_type": "code",
        "colab": {
          "base_uri": "https://localhost:8080/",
          "height": 71
        },
        "outputId": "1cc83bfa-54dd-4b20-e80c-b8e2d9875c9f"
      },
      "source": [
        "print(\"문자열: \\ 이용\")\n",
        "food = 'Python\\'s favorite food is perl'\n",
        "say = \"\\\"Python is very easy.\\\" he says.\"\n",
        "print(food)\n",
        "print(say)"
      ],
      "execution_count": 13,
      "outputs": [
        {
          "output_type": "stream",
          "text": [
            "문자열: \\ 이용\n",
            "Python's favorite food is perl\n",
            "\"Python is very easy.\" he says.\n"
          ],
          "name": "stdout"
        }
      ]
    },
    {
      "cell_type": "markdown",
      "metadata": {
        "id": "dM-IexUHtA1X",
        "colab_type": "text"
      },
      "source": [
        "##이스케이프 코드 문자 중간에 \\를 사용하면 다음 줄로 띄워 쓸 수 있음"
      ]
    },
    {
      "cell_type": "code",
      "metadata": {
        "id": "TeDrm7OCszC2",
        "colab_type": "code",
        "colab": {
          "base_uri": "https://localhost:8080/",
          "height": 71
        },
        "outputId": "32571dec-530d-4992-9c19-bb1351b872a1"
      },
      "source": [
        "# 이스케이프 코드\n",
        "print(\"문자열: 이스케이프 코드 이용\")\n",
        "multiline = \"Life is too short\\nYou need python\"\n",
        "print(multiline)"
      ],
      "execution_count": 15,
      "outputs": [
        {
          "output_type": "stream",
          "text": [
            "문자열: 이스케이프 코드 이용\n",
            "Life is too short\n",
            "You need python\n"
          ],
          "name": "stdout"
        }
      ]
    },
    {
      "cell_type": "markdown",
      "metadata": {
        "id": "9ZR_bunstMxP",
        "colab_type": "text"
      },
      "source": [
        "## 여러 줄 문자열 처리"
      ]
    },
    {
      "cell_type": "code",
      "metadata": {
        "id": "SzzffqBptLUG",
        "colab_type": "code",
        "colab": {
          "base_uri": "https://localhost:8080/",
          "height": 89
        },
        "outputId": "817b324e-ec12-4b8f-c2e8-5f42959d08b6"
      },
      "source": [
        "# 여러줄 문자열 처리\n",
        "multiline = '''\n",
        "... Life is too short\n",
        "... You need python\n",
        "... '''\n",
        "multiline\n",
        "print(multiline)"
      ],
      "execution_count": 16,
      "outputs": [
        {
          "output_type": "stream",
          "text": [
            "\n",
            "Life is too short\n",
            "You need python\n",
            "\n"
          ],
          "name": "stdout"
        }
      ]
    },
    {
      "cell_type": "markdown",
      "metadata": {
        "id": "uSInd0d_tf3P",
        "colab_type": "text"
      },
      "source": [
        "##문자열 연산"
      ]
    },
    {
      "cell_type": "code",
      "metadata": {
        "id": "uXGTZTlRtkfu",
        "colab_type": "code",
        "colab": {
          "base_uri": "https://localhost:8080/",
          "height": 53
        },
        "outputId": "fd51ad8d-61f0-45b9-8051-7d774d45eee9"
      },
      "source": [
        "print(\"문자열 연산: 더하기\")\n",
        "head = \"Python\"\n",
        "tail = \" is fun!\"\n",
        "print(head + tail)\n",
        "\n"
      ],
      "execution_count": 17,
      "outputs": [
        {
          "output_type": "stream",
          "text": [
            "문자열 연산: 더하기\n",
            "Python is fun!\n"
          ],
          "name": "stdout"
        }
      ]
    },
    {
      "cell_type": "markdown",
      "metadata": {
        "id": "IQ5m1jhjt1Sv",
        "colab_type": "text"
      },
      "source": [
        "##문자열 곱하기"
      ]
    },
    {
      "cell_type": "code",
      "metadata": {
        "id": "bVY6Mp-GtrmP",
        "colab_type": "code",
        "colab": {
          "base_uri": "https://localhost:8080/",
          "height": 53
        },
        "outputId": "1d6e8d4c-ac82-4ecf-b322-d94b8eeff51c"
      },
      "source": [
        "print(\"문자열 연산: 곱하기\")\n",
        "a = \"python\"\n",
        "print(a * 2)"
      ],
      "execution_count": 18,
      "outputs": [
        {
          "output_type": "stream",
          "text": [
            "문자열 연산: 곱하기\n",
            "pythonpython\n"
          ],
          "name": "stdout"
        }
      ]
    },
    {
      "cell_type": "markdown",
      "metadata": {
        "id": "EyR7hw6Jujv_",
        "colab_type": "text"
      },
      "source": [
        "##multistring.py"
      ]
    },
    {
      "cell_type": "code",
      "metadata": {
        "id": "AN1gT0FBuImG",
        "colab_type": "code",
        "colab": {}
      },
      "source": [
        "# multistring.py\n",
        "print(\"=\" * 50)\n",
        "print(\"I am now coding Python!\")\n",
        "print(\"=\" * 50)"
      ],
      "execution_count": 0,
      "outputs": []
    },
    {
      "cell_type": "markdown",
      "metadata": {
        "id": "Pnk4_bXaurcm",
        "colab_type": "text"
      },
      "source": [
        "##내장함수 len"
      ]
    },
    {
      "cell_type": "code",
      "metadata": {
        "id": "diSPbAkIunyI",
        "colab_type": "code",
        "colab": {
          "base_uri": "https://localhost:8080/",
          "height": 53
        },
        "outputId": "5ed9b629-bcd9-42c2-93ef-ffc37c370136"
      },
      "source": [
        "# 내장함수: len()\n",
        "print(\"문자열 연산: 길이 구하기 - len()\")\n",
        "a = \"Life is too short\"\n",
        "len(a)"
      ],
      "execution_count": 19,
      "outputs": [
        {
          "output_type": "stream",
          "text": [
            "문자열 연산: 길이 구하기 - len()\n"
          ],
          "name": "stdout"
        },
        {
          "output_type": "execute_result",
          "data": {
            "text/plain": [
              "17"
            ]
          },
          "metadata": {
            "tags": []
          },
          "execution_count": 19
        }
      ]
    },
    {
      "cell_type": "markdown",
      "metadata": {
        "id": "dTf6RPaZuyGG",
        "colab_type": "text"
      },
      "source": [
        "##문자열 인덱싱"
      ]
    },
    {
      "cell_type": "code",
      "metadata": {
        "id": "LdXNcP3Kuw7m",
        "colab_type": "code",
        "colab": {
          "base_uri": "https://localhost:8080/",
          "height": 71
        },
        "outputId": "5daba829-ec98-4a59-e9d3-189fe1046b7c"
      },
      "source": [
        "print(\"문자열: 인덱싱이란?\")\n",
        "a = \"Life is too short, You need Python\"\n",
        "print(a[3])\n",
        "print(a[15])"
      ],
      "execution_count": 20,
      "outputs": [
        {
          "output_type": "stream",
          "text": [
            "문자열: 인덱싱이란?\n",
            "e\n",
            "r\n"
          ],
          "name": "stdout"
        }
      ]
    },
    {
      "cell_type": "code",
      "metadata": {
        "id": "XyaDo9LPu-F2",
        "colab_type": "code",
        "colab": {
          "base_uri": "https://localhost:8080/",
          "height": 143
        },
        "outputId": "1f9bec3c-d7b0-4398-c4ba-fbaed7212601"
      },
      "source": [
        "print(\"문자열: 인덱싱 활용\")\n",
        "\n",
        "a = \"Life is too short, You need Python\"\n",
        "print(a[0])\n",
        "\n",
        "print(a[12])\n",
        "\n",
        "print(a[-1])\n",
        "\n",
        "# a[-0]\n",
        "print(a[-2])\n",
        "print(a[-5])\n",
        "print(a[-12])"
      ],
      "execution_count": 21,
      "outputs": [
        {
          "output_type": "stream",
          "text": [
            "문자열: 인덱싱 활용\n",
            "L\n",
            "s\n",
            "n\n",
            "o\n",
            "y\n",
            " \n"
          ],
          "name": "stdout"
        }
      ]
    },
    {
      "cell_type": "markdown",
      "metadata": {
        "id": "gI4m6fakvRkn",
        "colab_type": "text"
      },
      "source": [
        "##슬라이싱"
      ]
    },
    {
      "cell_type": "code",
      "metadata": {
        "id": "eUqEstNnvQMO",
        "colab_type": "code",
        "colab": {
          "base_uri": "https://localhost:8080/",
          "height": 125
        },
        "outputId": "719288f3-5a03-4158-a7fb-b825d3da5fc4"
      },
      "source": [
        "print(\"문자열: 슬라이싱이란?\")\n",
        "a = \"Life is too short, You need Python\"\n",
        "\n",
        "\n",
        "b = a[0] + a[1] + a[2] + a[3]  \n",
        "print(b)\n",
        "\n",
        "print(a[0:4]) \n",
        "\n",
        "print(a[0:5])\n",
        "print(a[5:7])\n",
        "print(a[12:17])"
      ],
      "execution_count": 24,
      "outputs": [
        {
          "output_type": "stream",
          "text": [
            "문자열: 슬라이싱이란?\n",
            "Life\n",
            "Life\n",
            "Life \n",
            "is\n",
            "short\n"
          ],
          "name": "stdout"
        }
      ]
    },
    {
      "cell_type": "code",
      "metadata": {
        "id": "r5wUjAXxwCcv",
        "colab_type": "code",
        "colab": {
          "base_uri": "https://localhost:8080/",
          "height": 143
        },
        "outputId": "3977b4ff-d81e-4e34-e0ed-22bb90e2a9d7"
      },
      "source": [
        "print(\"# : 의 사용\")\n",
        "print(a[:4])\n",
        "print(a[19:])\n",
        "print(a[:17])\n",
        "\n",
        "print(a[:])\n",
        "\n",
        "print(\"# a[19:-7]?\")\n",
        "print(a[19:-7])"
      ],
      "execution_count": 27,
      "outputs": [
        {
          "output_type": "stream",
          "text": [
            "# : 의 사용\n",
            "Life\n",
            "You need Python\n",
            "Life is too short\n",
            "Life is too short, You need Python\n",
            "# a[19:-7]?\n",
            "You need\n"
          ],
          "name": "stdout"
        }
      ]
    },
    {
      "cell_type": "markdown",
      "metadata": {
        "id": "_Bf7SV5PwfEm",
        "colab_type": "text"
      },
      "source": [
        "##슬라이싱 응용"
      ]
    },
    {
      "cell_type": "code",
      "metadata": {
        "id": "wE1xKEU7weel",
        "colab_type": "code",
        "colab": {
          "base_uri": "https://localhost:8080/",
          "height": 89
        },
        "outputId": "9c7e57a4-7729-4eec-ed71-7e12acd31791"
      },
      "source": [
        "print(\"문자열: 슬라이싱 응용\")\n",
        "a = \"20190909Sunny\"\n",
        "date = a[:8]\n",
        "weather = a[8:]\n",
        "print(date)\n",
        "print(weather)\n",
        "\n",
        "a = \"20190917Rainy\"\n",
        "year = a[:4]\n",
        "day = a[4:8]\n",
        "weather = a[8:]\n",
        "print(year,day,weather)\n",
        "\n",
        "\n",
        "\n"
      ],
      "execution_count": 31,
      "outputs": [
        {
          "output_type": "stream",
          "text": [
            "문자열: 슬라이싱 응용\n",
            "20190909\n",
            "Sunny\n",
            "('2019', '0917', 'Rainy')\n"
          ],
          "name": "stdout"
        }
      ]
    },
    {
      "cell_type": "markdown",
      "metadata": {
        "id": "ngGNwfjkxXY1",
        "colab_type": "text"
      },
      "source": [
        "##에러코드"
      ]
    },
    {
      "cell_type": "code",
      "metadata": {
        "id": "GFYGbsdWxJNY",
        "colab_type": "code",
        "colab": {
          "base_uri": "https://localhost:8080/",
          "height": 226
        },
        "outputId": "bfd7c61b-937f-499a-8adf-a6cb6e164527"
      },
      "source": [
        "# \"Pithon\"이라는 문자열을 \"Python\"으로 바꾸려면?\n",
        "a = \"Pithon\"\n",
        "a[1]\n",
        "a[1] = 'y'  # Error (immutable한 자료형)\n",
        "\n"
      ],
      "execution_count": 33,
      "outputs": [
        {
          "output_type": "error",
          "ename": "TypeError",
          "evalue": "ignored",
          "traceback": [
            "\u001b[0;31m\u001b[0m",
            "\u001b[0;31mTypeError\u001b[0mTraceback (most recent call last)",
            "\u001b[0;32m<ipython-input-33-c906fa1a5b5a>\u001b[0m in \u001b[0;36m<module>\u001b[0;34m()\u001b[0m\n\u001b[1;32m      1\u001b[0m \u001b[0ma\u001b[0m \u001b[0;34m=\u001b[0m \u001b[0;34m\"Pithon\"\u001b[0m\u001b[0;34m\u001b[0m\u001b[0;34m\u001b[0m\u001b[0m\n\u001b[1;32m      2\u001b[0m \u001b[0ma\u001b[0m\u001b[0;34m[\u001b[0m\u001b[0;36m1\u001b[0m\u001b[0;34m]\u001b[0m\u001b[0;34m\u001b[0m\u001b[0;34m\u001b[0m\u001b[0m\n\u001b[0;32m----> 3\u001b[0;31m \u001b[0ma\u001b[0m\u001b[0;34m[\u001b[0m\u001b[0;36m1\u001b[0m\u001b[0;34m]\u001b[0m \u001b[0;34m=\u001b[0m \u001b[0;34m'y'\u001b[0m  \u001b[0;31m# Error (immutable한 자료형)\u001b[0m\u001b[0;34m\u001b[0m\u001b[0;34m\u001b[0m\u001b[0m\n\u001b[0m\u001b[1;32m      4\u001b[0m \u001b[0;34m\u001b[0m\u001b[0m\n",
            "\u001b[0;31mTypeError\u001b[0m: 'str' object does not support item assignment"
          ]
        }
      ]
    },
    {
      "cell_type": "code",
      "metadata": {
        "id": "cxvROq6wxihh",
        "colab_type": "code",
        "colab": {}
      },
      "source": [
        ""
      ],
      "execution_count": 0,
      "outputs": []
    },
    {
      "cell_type": "code",
      "metadata": {
        "id": "t6-o2FKyAIao",
        "colab_type": "code",
        "colab": {}
      },
      "source": [
        ""
      ],
      "execution_count": 0,
      "outputs": []
    },
    {
      "cell_type": "markdown",
      "metadata": {
        "id": "mIy53y8-xaLW",
        "colab_type": "text"
      },
      "source": [
        "##수정본"
      ]
    },
    {
      "cell_type": "code",
      "metadata": {
        "id": "AxS_Y2ZNxUsN",
        "colab_type": "code",
        "colab": {
          "base_uri": "https://localhost:8080/",
          "height": 35
        },
        "outputId": "a5aeeb1e-971c-4014-831a-928f976202c6"
      },
      "source": [
        "a = \"Pithon\"\n",
        "a[:1]\n",
        "a[2:]\n",
        "print(a[:1] + 'y' + a[2:])"
      ],
      "execution_count": 34,
      "outputs": [
        {
          "output_type": "stream",
          "text": [
            "Python\n"
          ],
          "name": "stdout"
        }
      ]
    }
  ]
}